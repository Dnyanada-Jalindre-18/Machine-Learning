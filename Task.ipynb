{
  "nbformat": 4,
  "nbformat_minor": 5,
  "metadata": {
    "kernelspec": {
      "display_name": "Python 3",
      "language": "python",
      "name": "python3"
    },
    "language_info": {
      "codemirror_mode": {
        "name": "ipython",
        "version": 3
      },
      "file_extension": ".py",
      "mimetype": "text/x-python",
      "name": "python",
      "nbconvert_exporter": "python",
      "pygments_lexer": "ipython3",
      "version": "3.8.5"
    },
    "colab": {
      "name": "Task.ipynb",
      "provenance": [],
      "collapsed_sections": []
    },
    "accelerator": "GPU"
  },
  "cells": [
    {
      "cell_type": "markdown",
      "metadata": {
        "id": "behind-lafayette"
      },
      "source": [
        "# HACKATHON TASK by INNOMATICS Research Labs\n",
        "## Submission by : Dnyanada Jalindre\n",
        "## 1. Importing required libraries and dataset"
      ],
      "id": "behind-lafayette"
    },
    {
      "cell_type": "code",
      "metadata": {
        "id": "suffering-amplifier"
      },
      "source": [
        "# Importing required libraries\n",
        "import numpy as np\n",
        "import pandas as pd\n",
        "import matplotlib.pyplot as plt\n",
        "import seaborn as sns\n",
        "\n",
        "from sklearn.linear_model import LogisticRegression\n",
        "from sklearn.neighbors import KNeighborsClassifier\n",
        "from sklearn.svm import SVC\n",
        "from sklearn.tree import DecisionTreeClassifier\n",
        "from sklearn import tree\n",
        "from sklearn.model_selection import train_test_split, GridSearchCV, RepeatedStratifiedKFold\n",
        "from sklearn.metrics import accuracy_score, classification_report, confusion_matrix"
      ],
      "id": "suffering-amplifier",
      "execution_count": 1,
      "outputs": []
    },
    {
      "cell_type": "code",
      "metadata": {
        "colab": {
          "base_uri": "https://localhost:8080/",
          "height": 343
        },
        "id": "southern-indonesian",
        "outputId": "3f8e209e-3086-4ae8-9e67-6b4fd0355fe9"
      },
      "source": [
        "# Importing dataset\n",
        "data = pd.read_csv(\"data.csv\")\n",
        "data.head(10)"
      ],
      "id": "southern-indonesian",
      "execution_count": 2,
      "outputs": [
        {
          "output_type": "execute_result",
          "data": {
            "text/html": [
              "<div>\n",
              "<style scoped>\n",
              "    .dataframe tbody tr th:only-of-type {\n",
              "        vertical-align: middle;\n",
              "    }\n",
              "\n",
              "    .dataframe tbody tr th {\n",
              "        vertical-align: top;\n",
              "    }\n",
              "\n",
              "    .dataframe thead th {\n",
              "        text-align: right;\n",
              "    }\n",
              "</style>\n",
              "<table border=\"1\" class=\"dataframe\">\n",
              "  <thead>\n",
              "    <tr style=\"text-align: right;\">\n",
              "      <th></th>\n",
              "      <th>x1</th>\n",
              "      <th>x2</th>\n",
              "      <th>y</th>\n",
              "    </tr>\n",
              "  </thead>\n",
              "  <tbody>\n",
              "    <tr>\n",
              "      <th>0</th>\n",
              "      <td>-119.366669</td>\n",
              "      <td>115.000000</td>\n",
              "      <td>1</td>\n",
              "    </tr>\n",
              "    <tr>\n",
              "      <th>1</th>\n",
              "      <td>-101.108044</td>\n",
              "      <td>97.777159</td>\n",
              "      <td>1</td>\n",
              "    </tr>\n",
              "    <tr>\n",
              "      <th>2</th>\n",
              "      <td>-130.278658</td>\n",
              "      <td>106.767654</td>\n",
              "      <td>1</td>\n",
              "    </tr>\n",
              "    <tr>\n",
              "      <th>3</th>\n",
              "      <td>-114.703415</td>\n",
              "      <td>101.195477</td>\n",
              "      <td>1</td>\n",
              "    </tr>\n",
              "    <tr>\n",
              "      <th>4</th>\n",
              "      <td>-119.366669</td>\n",
              "      <td>115.000000</td>\n",
              "      <td>1</td>\n",
              "    </tr>\n",
              "    <tr>\n",
              "      <th>5</th>\n",
              "      <td>-121.393638</td>\n",
              "      <td>120.037573</td>\n",
              "      <td>1</td>\n",
              "    </tr>\n",
              "    <tr>\n",
              "      <th>6</th>\n",
              "      <td>-102.569918</td>\n",
              "      <td>113.840641</td>\n",
              "      <td>1</td>\n",
              "    </tr>\n",
              "    <tr>\n",
              "      <th>7</th>\n",
              "      <td>-118.175619</td>\n",
              "      <td>110.460679</td>\n",
              "      <td>1</td>\n",
              "    </tr>\n",
              "    <tr>\n",
              "      <th>8</th>\n",
              "      <td>-118.366669</td>\n",
              "      <td>115.000000</td>\n",
              "      <td>1</td>\n",
              "    </tr>\n",
              "    <tr>\n",
              "      <th>9</th>\n",
              "      <td>-102.731143</td>\n",
              "      <td>122.923042</td>\n",
              "      <td>1</td>\n",
              "    </tr>\n",
              "  </tbody>\n",
              "</table>\n",
              "</div>"
            ],
            "text/plain": [
              "           x1          x2  y\n",
              "0 -119.366669  115.000000  1\n",
              "1 -101.108044   97.777159  1\n",
              "2 -130.278658  106.767654  1\n",
              "3 -114.703415  101.195477  1\n",
              "4 -119.366669  115.000000  1\n",
              "5 -121.393638  120.037573  1\n",
              "6 -102.569918  113.840641  1\n",
              "7 -118.175619  110.460679  1\n",
              "8 -118.366669  115.000000  1\n",
              "9 -102.731143  122.923042  1"
            ]
          },
          "metadata": {
            "tags": []
          },
          "execution_count": 2
        }
      ]
    },
    {
      "cell_type": "markdown",
      "metadata": {
        "id": "everyday-floor"
      },
      "source": [
        "## 2. Exploratory Data Analysis\n",
        "\n",
        "## Data Summary"
      ],
      "id": "everyday-floor"
    },
    {
      "cell_type": "code",
      "metadata": {
        "colab": {
          "base_uri": "https://localhost:8080/",
          "height": 284
        },
        "id": "useful-california",
        "outputId": "84c127ac-bd80-4d64-d1a1-3a49e05368ff"
      },
      "source": [
        "# Data summary\n",
        "data.describe()"
      ],
      "id": "useful-california",
      "execution_count": 3,
      "outputs": [
        {
          "output_type": "execute_result",
          "data": {
            "text/html": [
              "<div>\n",
              "<style scoped>\n",
              "    .dataframe tbody tr th:only-of-type {\n",
              "        vertical-align: middle;\n",
              "    }\n",
              "\n",
              "    .dataframe tbody tr th {\n",
              "        vertical-align: top;\n",
              "    }\n",
              "\n",
              "    .dataframe thead th {\n",
              "        text-align: right;\n",
              "    }\n",
              "</style>\n",
              "<table border=\"1\" class=\"dataframe\">\n",
              "  <thead>\n",
              "    <tr style=\"text-align: right;\">\n",
              "      <th></th>\n",
              "      <th>x1</th>\n",
              "      <th>x2</th>\n",
              "      <th>y</th>\n",
              "    </tr>\n",
              "  </thead>\n",
              "  <tbody>\n",
              "    <tr>\n",
              "      <th>count</th>\n",
              "      <td>2222.000000</td>\n",
              "      <td>2.224000e+03</td>\n",
              "      <td>2227.000000</td>\n",
              "    </tr>\n",
              "    <tr>\n",
              "      <th>mean</th>\n",
              "      <td>-4.818766</td>\n",
              "      <td>8.947626e+04</td>\n",
              "      <td>0.442299</td>\n",
              "    </tr>\n",
              "    <tr>\n",
              "      <th>std</th>\n",
              "      <td>74.939909</td>\n",
              "      <td>2.983323e+06</td>\n",
              "      <td>0.496771</td>\n",
              "    </tr>\n",
              "    <tr>\n",
              "      <th>min</th>\n",
              "      <td>-134.369160</td>\n",
              "      <td>-1.348761e+02</td>\n",
              "      <td>0.000000</td>\n",
              "    </tr>\n",
              "    <tr>\n",
              "      <th>25%</th>\n",
              "      <td>-71.757030</td>\n",
              "      <td>-8.012983e+01</td>\n",
              "      <td>0.000000</td>\n",
              "    </tr>\n",
              "    <tr>\n",
              "      <th>50%</th>\n",
              "      <td>-9.836555</td>\n",
              "      <td>-1.046151e+00</td>\n",
              "      <td>0.000000</td>\n",
              "    </tr>\n",
              "    <tr>\n",
              "      <th>75%</th>\n",
              "      <td>59.813962</td>\n",
              "      <td>6.389086e+01</td>\n",
              "      <td>1.000000</td>\n",
              "    </tr>\n",
              "    <tr>\n",
              "      <th>max</th>\n",
              "      <td>134.508687</td>\n",
              "      <td>1.000000e+08</td>\n",
              "      <td>1.000000</td>\n",
              "    </tr>\n",
              "  </tbody>\n",
              "</table>\n",
              "</div>"
            ],
            "text/plain": [
              "                x1            x2            y\n",
              "count  2222.000000  2.224000e+03  2227.000000\n",
              "mean     -4.818766  8.947626e+04     0.442299\n",
              "std      74.939909  2.983323e+06     0.496771\n",
              "min    -134.369160 -1.348761e+02     0.000000\n",
              "25%     -71.757030 -8.012983e+01     0.000000\n",
              "50%      -9.836555 -1.046151e+00     0.000000\n",
              "75%      59.813962  6.389086e+01     1.000000\n",
              "max     134.508687  1.000000e+08     1.000000"
            ]
          },
          "metadata": {
            "tags": []
          },
          "execution_count": 3
        }
      ]
    },
    {
      "cell_type": "code",
      "metadata": {
        "colab": {
          "base_uri": "https://localhost:8080/"
        },
        "id": "urban-festival",
        "outputId": "f53cea57-628c-4542-f7d6-8865f77eb877"
      },
      "source": [
        "# checking data types and any missing values.\n",
        "data.info()"
      ],
      "id": "urban-festival",
      "execution_count": 4,
      "outputs": [
        {
          "output_type": "stream",
          "text": [
            "<class 'pandas.core.frame.DataFrame'>\n",
            "RangeIndex: 2227 entries, 0 to 2226\n",
            "Data columns (total 3 columns):\n",
            " #   Column  Non-Null Count  Dtype  \n",
            "---  ------  --------------  -----  \n",
            " 0   x1      2222 non-null   float64\n",
            " 1   x2      2224 non-null   float64\n",
            " 2   y       2227 non-null   int64  \n",
            "dtypes: float64(2), int64(1)\n",
            "memory usage: 52.3 KB\n"
          ],
          "name": "stdout"
        }
      ]
    },
    {
      "cell_type": "markdown",
      "metadata": {
        "id": "established-hayes"
      },
      "source": [
        "## Handling Missing values"
      ],
      "id": "established-hayes"
    },
    {
      "cell_type": "code",
      "metadata": {
        "colab": {
          "base_uri": "https://localhost:8080/"
        },
        "id": "published-jenny",
        "outputId": "172bce20-7481-465e-8fd1-ff656735ca2c"
      },
      "source": [
        "data.isna().sum()"
      ],
      "id": "published-jenny",
      "execution_count": 5,
      "outputs": [
        {
          "output_type": "execute_result",
          "data": {
            "text/plain": [
              "x1    5\n",
              "x2    3\n",
              "y     0\n",
              "dtype: int64"
            ]
          },
          "metadata": {
            "tags": []
          },
          "execution_count": 5
        }
      ]
    },
    {
      "cell_type": "markdown",
      "metadata": {
        "id": "changed-aviation"
      },
      "source": [
        "**We can clearly see that our data contains some missing values**\n",
        "\n",
        "**In x1 there are 5 missing values and in x2 total 3 missing values**\n",
        "\n",
        "### Let's see where those missing values are found"
      ],
      "id": "changed-aviation"
    },
    {
      "cell_type": "code",
      "metadata": {
        "id": "bibliographic-optimum"
      },
      "source": [
        "def check_missing_values(data):\n",
        "    return np.where(data.isna())"
      ],
      "id": "bibliographic-optimum",
      "execution_count": 6,
      "outputs": []
    },
    {
      "cell_type": "code",
      "metadata": {
        "id": "horizontal-philip"
      },
      "source": [
        "x1 = check_missing_values(data[\"x1\"])\n",
        "x2 = check_missing_values(data[\"x2\"])"
      ],
      "id": "horizontal-philip",
      "execution_count": 7,
      "outputs": []
    },
    {
      "cell_type": "code",
      "metadata": {
        "colab": {
          "base_uri": "https://localhost:8080/"
        },
        "id": "above-silence",
        "outputId": "08f9cc1e-1dfd-4895-fb97-2be024d1910f"
      },
      "source": [
        "# where are missing values?\n",
        "\n",
        "print(\"Missing values in x1 column found at following index:\\n \",x1 )\n",
        "print(\"\\n\\nMissing values in x2 column found at following index:\\n \",x2 )"
      ],
      "id": "above-silence",
      "execution_count": 8,
      "outputs": [
        {
          "output_type": "stream",
          "text": [
            "Missing values in x1 column found at following index:\n",
            "  (array([  36,   98,  268, 1084, 1318]),)\n",
            "\n",
            "\n",
            "Missing values in x2 column found at following index:\n",
            "  (array([  44, 1092, 1430]),)\n"
          ],
          "name": "stdout"
        }
      ]
    },
    {
      "cell_type": "markdown",
      "metadata": {
        "id": "authorized-national"
      },
      "source": [
        "### Handling missing values.\n",
        "**As our missing values are very less, simple way to treat them is to remove them**"
      ],
      "id": "authorized-national"
    },
    {
      "cell_type": "code",
      "metadata": {
        "id": "isolated-music"
      },
      "source": [
        "data.dropna(axis=0,inplace=True)"
      ],
      "id": "isolated-music",
      "execution_count": 9,
      "outputs": []
    },
    {
      "cell_type": "code",
      "metadata": {
        "colab": {
          "base_uri": "https://localhost:8080/"
        },
        "id": "lesser-mandate",
        "outputId": "417c739c-66ae-4207-b54c-2b901563b068"
      },
      "source": [
        "data.isna().sum()"
      ],
      "id": "lesser-mandate",
      "execution_count": 10,
      "outputs": [
        {
          "output_type": "execute_result",
          "data": {
            "text/plain": [
              "x1    0\n",
              "x2    0\n",
              "y     0\n",
              "dtype: int64"
            ]
          },
          "metadata": {
            "tags": []
          },
          "execution_count": 10
        }
      ]
    },
    {
      "cell_type": "markdown",
      "metadata": {
        "id": "meaning-alert"
      },
      "source": [
        "**Records containing missing values are removed properly..!!**\n",
        "\n",
        "## Checking Outliers"
      ],
      "id": "meaning-alert"
    },
    {
      "cell_type": "code",
      "metadata": {
        "id": "running-thickness"
      },
      "source": [
        "# Calculating percentiles\n",
        "Q1 = data.quantile(0.25)\n",
        "Q3 = data.quantile(0.75)\n",
        "\n",
        "# IQR = Inter Quartile Range\n",
        "IQR = Q3 - Q1"
      ],
      "id": "running-thickness",
      "execution_count": 11,
      "outputs": []
    },
    {
      "cell_type": "code",
      "metadata": {
        "colab": {
          "base_uri": "https://localhost:8080/"
        },
        "id": "settled-craft",
        "outputId": "7d27c7e9-214b-474a-d719-c1aae39a1d57"
      },
      "source": [
        "# Checking for any outliers\n",
        "((data < (Q1 - 1.5 * IQR)) | (data > (Q3 + 1.5 * IQR))).sum()"
      ],
      "id": "settled-craft",
      "execution_count": 12,
      "outputs": [
        {
          "output_type": "execute_result",
          "data": {
            "text/plain": [
              "x1    0\n",
              "x2    2\n",
              "y     0\n",
              "dtype: int64"
            ]
          },
          "metadata": {
            "tags": []
          },
          "execution_count": 12
        }
      ]
    },
    {
      "cell_type": "markdown",
      "metadata": {
        "id": "traditional-reconstruction"
      },
      "source": [
        "### Finding the outliers below lower bound."
      ],
      "id": "traditional-reconstruction"
    },
    {
      "cell_type": "code",
      "metadata": {
        "colab": {
          "base_uri": "https://localhost:8080/"
        },
        "id": "portable-ultimate",
        "outputId": "bc366283-adfd-4a7d-9654-b701adc7195d"
      },
      "source": [
        "lower = (data < (Q1 - 1.5 * IQR))\n",
        "print(lower.sum())"
      ],
      "id": "portable-ultimate",
      "execution_count": 13,
      "outputs": [
        {
          "output_type": "stream",
          "text": [
            "x1    0\n",
            "x2    0\n",
            "y     0\n",
            "dtype: int64\n"
          ],
          "name": "stdout"
        }
      ]
    },
    {
      "cell_type": "markdown",
      "metadata": {
        "id": "expensive-arrest"
      },
      "source": [
        "**No outliers found below lower bound**\n",
        "### Finding the outliers above upper bound."
      ],
      "id": "expensive-arrest"
    },
    {
      "cell_type": "code",
      "metadata": {
        "colab": {
          "base_uri": "https://localhost:8080/"
        },
        "id": "czech-management",
        "outputId": "28022867-3e51-4d6e-cc96-5cb6e3446de5"
      },
      "source": [
        "# Finding upper bound of every column of dataset\n",
        "upper_bound = Q3 + 1.5 * IQR\n",
        "upper_bound"
      ],
      "id": "czech-management",
      "execution_count": 14,
      "outputs": [
        {
          "output_type": "execute_result",
          "data": {
            "text/plain": [
              "x1    257.279819\n",
              "x2    280.150695\n",
              "y       2.500000\n",
              "dtype: float64"
            ]
          },
          "metadata": {
            "tags": []
          },
          "execution_count": 14
        }
      ]
    },
    {
      "cell_type": "code",
      "metadata": {
        "colab": {
          "base_uri": "https://localhost:8080/"
        },
        "id": "motivated-manchester",
        "outputId": "b107addc-3c92-4585-b95e-172979726a27"
      },
      "source": [
        "# Finding the outliers above upper bound. \n",
        "upper = (data > (Q3 + 1.5 * IQR))\n",
        "print(upper.sum())"
      ],
      "id": "motivated-manchester",
      "execution_count": 15,
      "outputs": [
        {
          "output_type": "stream",
          "text": [
            "x1    0\n",
            "x2    2\n",
            "y     0\n",
            "dtype: int64\n"
          ],
          "name": "stdout"
        }
      ]
    },
    {
      "cell_type": "markdown",
      "metadata": {
        "id": "thrown-finder"
      },
      "source": [
        "**Outliers detected...!! That means there are 2 outliers in x2 that are above upper bound (i.e above the value 280.150695)**\n",
        "## Treatment of outliers"
      ],
      "id": "thrown-finder"
    },
    {
      "cell_type": "code",
      "metadata": {
        "id": "unique-problem"
      },
      "source": [
        "# filling the outliers (above upper bound) with nan values\n",
        "data[upper] = np.nan"
      ],
      "id": "unique-problem",
      "execution_count": 16,
      "outputs": []
    },
    {
      "cell_type": "code",
      "metadata": {
        "id": "assisted-refund"
      },
      "source": [
        "# Filling nan values (which are our outliers) with upper bounds..!\n",
        "data.fillna(upper_bound, inplace=True)"
      ],
      "id": "assisted-refund",
      "execution_count": 17,
      "outputs": []
    },
    {
      "cell_type": "code",
      "metadata": {
        "colab": {
          "base_uri": "https://localhost:8080/",
          "height": 284
        },
        "id": "stuck-glasgow",
        "outputId": "a36809fa-cdad-4538-dfc3-4c9c13b8d277"
      },
      "source": [
        "# Data summary\n",
        "data.describe()"
      ],
      "id": "stuck-glasgow",
      "execution_count": 18,
      "outputs": [
        {
          "output_type": "execute_result",
          "data": {
            "text/html": [
              "<div>\n",
              "<style scoped>\n",
              "    .dataframe tbody tr th:only-of-type {\n",
              "        vertical-align: middle;\n",
              "    }\n",
              "\n",
              "    .dataframe tbody tr th {\n",
              "        vertical-align: top;\n",
              "    }\n",
              "\n",
              "    .dataframe thead th {\n",
              "        text-align: right;\n",
              "    }\n",
              "</style>\n",
              "<table border=\"1\" class=\"dataframe\">\n",
              "  <thead>\n",
              "    <tr style=\"text-align: right;\">\n",
              "      <th></th>\n",
              "      <th>x1</th>\n",
              "      <th>x2</th>\n",
              "      <th>y</th>\n",
              "    </tr>\n",
              "  </thead>\n",
              "  <tbody>\n",
              "    <tr>\n",
              "      <th>count</th>\n",
              "      <td>2219.000000</td>\n",
              "      <td>2219.000000</td>\n",
              "      <td>2219.000000</td>\n",
              "    </tr>\n",
              "    <tr>\n",
              "      <th>mean</th>\n",
              "      <td>-4.771837</td>\n",
              "      <td>-6.472000</td>\n",
              "      <td>0.442091</td>\n",
              "    </tr>\n",
              "    <tr>\n",
              "      <th>std</th>\n",
              "      <td>74.938264</td>\n",
              "      <td>80.271109</td>\n",
              "      <td>0.496747</td>\n",
              "    </tr>\n",
              "    <tr>\n",
              "      <th>min</th>\n",
              "      <td>-134.369160</td>\n",
              "      <td>-134.876132</td>\n",
              "      <td>0.000000</td>\n",
              "    </tr>\n",
              "    <tr>\n",
              "      <th>25%</th>\n",
              "      <td>-71.581453</td>\n",
              "      <td>-80.259658</td>\n",
              "      <td>0.000000</td>\n",
              "    </tr>\n",
              "    <tr>\n",
              "      <th>50%</th>\n",
              "      <td>-9.750840</td>\n",
              "      <td>-1.566092</td>\n",
              "      <td>0.000000</td>\n",
              "    </tr>\n",
              "    <tr>\n",
              "      <th>75%</th>\n",
              "      <td>59.963056</td>\n",
              "      <td>63.904483</td>\n",
              "      <td>1.000000</td>\n",
              "    </tr>\n",
              "    <tr>\n",
              "      <th>max</th>\n",
              "      <td>134.508687</td>\n",
              "      <td>280.150695</td>\n",
              "      <td>1.000000</td>\n",
              "    </tr>\n",
              "  </tbody>\n",
              "</table>\n",
              "</div>"
            ],
            "text/plain": [
              "                x1           x2            y\n",
              "count  2219.000000  2219.000000  2219.000000\n",
              "mean     -4.771837    -6.472000     0.442091\n",
              "std      74.938264    80.271109     0.496747\n",
              "min    -134.369160  -134.876132     0.000000\n",
              "25%     -71.581453   -80.259658     0.000000\n",
              "50%      -9.750840    -1.566092     0.000000\n",
              "75%      59.963056    63.904483     1.000000\n",
              "max     134.508687   280.150695     1.000000"
            ]
          },
          "metadata": {
            "tags": []
          },
          "execution_count": 18
        }
      ]
    },
    {
      "cell_type": "markdown",
      "metadata": {
        "id": "established-cooler"
      },
      "source": [
        "### Outliers treated properly..!!"
      ],
      "id": "established-cooler"
    },
    {
      "cell_type": "code",
      "metadata": {
        "colab": {
          "base_uri": "https://localhost:8080/"
        },
        "id": "brilliant-mistress",
        "outputId": "9b64c01a-893c-4f07-e9dc-24d74dfcf545"
      },
      "source": [
        "upper = (data > (Q3 + 1.5 * IQR))\n",
        "print(upper.sum())"
      ],
      "id": "brilliant-mistress",
      "execution_count": 19,
      "outputs": [
        {
          "output_type": "stream",
          "text": [
            "x1    0\n",
            "x2    0\n",
            "y     0\n",
            "dtype: int64\n"
          ],
          "name": "stdout"
        }
      ]
    },
    {
      "cell_type": "markdown",
      "metadata": {
        "id": "medieval-north"
      },
      "source": [
        "## Data Visualization"
      ],
      "id": "medieval-north"
    },
    {
      "cell_type": "code",
      "metadata": {
        "colab": {
          "base_uri": "https://localhost:8080/",
          "height": 383
        },
        "id": "liquid-england",
        "outputId": "7432b9fd-1668-49b2-b178-7e3c09dc3547"
      },
      "source": [
        "# we are using catplot to differentiate types of y column\n",
        "plots = sns.catplot(x=\"y\", kind=\"count\", data = data)\n",
        "for ax in plots.axes.ravel():\n",
        "    for p in ax.patches:\n",
        "        ax.annotate(format(p.get_height()), \n",
        "        (p.get_x() + p.get_width() / 2., p.get_height()), \n",
        "        ha = 'center', va = 'center', xytext = (0, 10),textcoords = 'offset points')"
      ],
      "id": "liquid-england",
      "execution_count": 20,
      "outputs": [
        {
          "output_type": "display_data",
          "data": {
            "image/png": "[encoded data removed]",
            "text/plain": [
              "<Figure size 360x360 with 1 Axes>"
            ]
          },
          "metadata": {
            "tags": [],
            "needs_background": "light"
          }
        }
      ]
    },
    {
      "cell_type": "markdown",
      "metadata": {
        "id": "severe-headline"
      },
      "source": [
        "As our label contains binary values (only two values i.e 0 and 1), we can conclude that it is classification problem.\n",
        "* Total count of 0s : 1238\n",
        "* Total count of 1s : 981"
      ],
      "id": "severe-headline"
    },
    {
      "cell_type": "code",
      "metadata": {
        "colab": {
          "base_uri": "https://localhost:8080/",
          "height": 567
        },
        "id": "portuguese-consolidation",
        "outputId": "bcb3de2a-b034-4a9b-8f15-3ae2c8c68501"
      },
      "source": [
        "fig, axes = plt.subplots(1,2) \n",
        "fig.set_figheight(7)\n",
        "fig.set_figwidth(15)\n",
        "\n",
        "for i,col in enumerate(list(data.columns.values)[:-1]):\n",
        "    a = data.boxplot(col, by=\"y\", ax=axes.flatten()[i])\n",
        "\n",
        "plt.show()"
      ],
      "id": "portuguese-consolidation",
      "execution_count": 21,
      "outputs": [
        {
          "output_type": "stream",
          "text": [
            "/usr/local/lib/python3.7/dist-packages/numpy/core/_asarray.py:83: VisibleDeprecationWarning: Creating an ndarray from ragged nested sequences (which is a list-or-tuple of lists-or-tuples-or ndarrays with different lengths or shapes) is deprecated. If you meant to do this, you must specify 'dtype=object' when creating the ndarray\n",
            "  return array(a, dtype, copy=False, order=order)\n",
            "/usr/local/lib/python3.7/dist-packages/numpy/core/_asarray.py:83: VisibleDeprecationWarning: Creating an ndarray from ragged nested sequences (which is a list-or-tuple of lists-or-tuples-or ndarrays with different lengths or shapes) is deprecated. If you meant to do this, you must specify 'dtype=object' when creating the ndarray\n",
            "  return array(a, dtype, copy=False, order=order)\n"
          ],
          "name": "stderr"
        },
        {
          "output_type": "display_data",
          "data": {
            "image/png": "[encoded data removed]",
            "text/plain": [
              "<Figure size 1080x504 with 2 Axes>"
            ]
          },
          "metadata": {
            "tags": [],
            "needs_background": "light"
          }
        }
      ]
    },
    {
      "cell_type": "code",
      "metadata": {
        "colab": {
          "base_uri": "https://localhost:8080/",
          "height": 500
        },
        "id": "weighted-infrastructure",
        "outputId": "a78bc794-5197-4aa2-b893-86863899d075"
      },
      "source": [
        "fig, axes = plt.subplots(1,1) \n",
        "fig.set_figheight(7)\n",
        "fig.set_figwidth(7)\n",
        "\n",
        "# for sepal length vs sepal width\n",
        "sns.scatterplot(data['x1'], data['x2'], hue = data['y'], s= 50);"
      ],
      "id": "weighted-infrastructure",
      "execution_count": 22,
      "outputs": [
        {
          "output_type": "stream",
          "text": [
            "/usr/local/lib/python3.7/dist-packages/seaborn/_decorators.py:43: FutureWarning: Pass the following variables as keyword args: x, y. From version 0.12, the only valid positional argument will be `data`, and passing other arguments without an explicit keyword will result in an error or misinterpretation.\n",
            "  FutureWarning\n"
          ],
          "name": "stderr"
        },
        {
          "output_type": "display_data",
          "data": {
            "image/png": "[encoded data removed]",
            "text/plain": [
              "<Figure size 504x504 with 1 Axes>"
            ]
          },
          "metadata": {
            "tags": [],
            "needs_background": "light"
          }
        }
      ]
    },
    {
      "cell_type": "markdown",
      "metadata": {
        "id": "experienced-imperial"
      },
      "source": [
        "### Correlation between variables"
      ],
      "id": "experienced-imperial"
    },
    {
      "cell_type": "code",
      "metadata": {
        "colab": {
          "base_uri": "https://localhost:8080/",
          "height": 395
        },
        "id": "colonial-eligibility",
        "outputId": "60ef68f4-05d8-4eff-ccf7-6c1b7b4ec9b6"
      },
      "source": [
        "fig = plt.figure(figsize = (8,6))\n",
        "sns.heatmap(data.corr(), annot=True, cmap=\"PuBu\")"
      ],
      "id": "colonial-eligibility",
      "execution_count": 23,
      "outputs": [
        {
          "output_type": "execute_result",
          "data": {
            "text/plain": [
              "<matplotlib.axes._subplots.AxesSubplot at 0x7f02b4c50850>"
            ]
          },
          "metadata": {
            "tags": []
          },
          "execution_count": 23
        },
        {
          "output_type": "display_data",
          "data": {
            "image/png": "[encoded data removed]",
            "text/plain": [
              "<Figure size 576x432 with 2 Axes>"
            ]
          },
          "metadata": {
            "tags": [],
            "needs_background": "light"
          }
        }
      ]
    },
    {
      "cell_type": "markdown",
      "metadata": {
        "id": "perceived-transfer"
      },
      "source": [
        "From the correlation matrix we can easily observe that there is very weak correlation between features and label\n",
        "### Let's see the distribution of data for different columns"
      ],
      "id": "perceived-transfer"
    },
    {
      "cell_type": "code",
      "metadata": {
        "colab": {
          "base_uri": "https://localhost:8080/",
          "height": 390
        },
        "id": "democratic-staff",
        "outputId": "32a740cb-e8e9-4e0b-e5a1-553d27d28da4"
      },
      "source": [
        "fig, axes = plt.subplots(1,2) \n",
        "fig.set_figheight(6)\n",
        "fig.set_figwidth(15)\n",
        "\n",
        "for i,col in enumerate(list(data.columns.values)[:-1]):\n",
        "    a = data.hist(col, ax=axes.flatten()[i], color = \"skyblue\")\n",
        "\n",
        "plt.show()\n"
      ],
      "id": "democratic-staff",
      "execution_count": 24,
      "outputs": [
        {
          "output_type": "display_data",
          "data": {
            "image/png": "[encoded data removed]",
            "text/plain": [
              "<Figure size 1080x432 with 2 Axes>"
            ]
          },
          "metadata": {
            "tags": [],
            "needs_background": "light"
          }
        }
      ]
    },
    {
      "cell_type": "markdown",
      "metadata": {
        "id": "leading-bermuda"
      },
      "source": [
        "Inspite of our two outliers, we can say that our data is normally distributed.\n",
        "\n",
        "## 3. Locating dependent and independent variable."
      ],
      "id": "leading-bermuda"
    },
    {
      "cell_type": "code",
      "metadata": {
        "id": "sealed-manitoba"
      },
      "source": [
        "# X contains our features.\n",
        "X = data.iloc[:,:-1]\n",
        "\n",
        "# y contains our labels.\n",
        "y = data.iloc[:,-1]"
      ],
      "id": "sealed-manitoba",
      "execution_count": 25,
      "outputs": []
    },
    {
      "cell_type": "code",
      "metadata": {
        "colab": {
          "base_uri": "https://localhost:8080/",
          "height": 195
        },
        "id": "competitive-reading",
        "outputId": "ef0c65b7-fd66-4973-8ea6-0626df21e966"
      },
      "source": [
        "X.head()"
      ],
      "id": "competitive-reading",
      "execution_count": 26,
      "outputs": [
        {
          "output_type": "execute_result",
          "data": {
            "text/html": [
              "<div>\n",
              "<style scoped>\n",
              "    .dataframe tbody tr th:only-of-type {\n",
              "        vertical-align: middle;\n",
              "    }\n",
              "\n",
              "    .dataframe tbody tr th {\n",
              "        vertical-align: top;\n",
              "    }\n",
              "\n",
              "    .dataframe thead th {\n",
              "        text-align: right;\n",
              "    }\n",
              "</style>\n",
              "<table border=\"1\" class=\"dataframe\">\n",
              "  <thead>\n",
              "    <tr style=\"text-align: right;\">\n",
              "      <th></th>\n",
              "      <th>x1</th>\n",
              "      <th>x2</th>\n",
              "    </tr>\n",
              "  </thead>\n",
              "  <tbody>\n",
              "    <tr>\n",
              "      <th>0</th>\n",
              "      <td>-119.366669</td>\n",
              "      <td>115.000000</td>\n",
              "    </tr>\n",
              "    <tr>\n",
              "      <th>1</th>\n",
              "      <td>-101.108044</td>\n",
              "      <td>97.777159</td>\n",
              "    </tr>\n",
              "    <tr>\n",
              "      <th>2</th>\n",
              "      <td>-130.278658</td>\n",
              "      <td>106.767654</td>\n",
              "    </tr>\n",
              "    <tr>\n",
              "      <th>3</th>\n",
              "      <td>-114.703415</td>\n",
              "      <td>101.195477</td>\n",
              "    </tr>\n",
              "    <tr>\n",
              "      <th>4</th>\n",
              "      <td>-119.366669</td>\n",
              "      <td>115.000000</td>\n",
              "    </tr>\n",
              "  </tbody>\n",
              "</table>\n",
              "</div>"
            ],
            "text/plain": [
              "           x1          x2\n",
              "0 -119.366669  115.000000\n",
              "1 -101.108044   97.777159\n",
              "2 -130.278658  106.767654\n",
              "3 -114.703415  101.195477\n",
              "4 -119.366669  115.000000"
            ]
          },
          "metadata": {
            "tags": []
          },
          "execution_count": 26
        }
      ]
    },
    {
      "cell_type": "code",
      "metadata": {
        "colab": {
          "base_uri": "https://localhost:8080/"
        },
        "id": "olympic-bernard",
        "outputId": "6cce2520-921c-4281-e22a-40af2e51126b"
      },
      "source": [
        "y[:5]"
      ],
      "id": "olympic-bernard",
      "execution_count": 27,
      "outputs": [
        {
          "output_type": "execute_result",
          "data": {
            "text/plain": [
              "0    1\n",
              "1    1\n",
              "2    1\n",
              "3    1\n",
              "4    1\n",
              "Name: y, dtype: int64"
            ]
          },
          "metadata": {
            "tags": []
          },
          "execution_count": 27
        }
      ]
    },
    {
      "cell_type": "markdown",
      "metadata": {
        "id": "demonstrated-blake"
      },
      "source": [
        "## 4. Splitting the data into train and test set"
      ],
      "id": "demonstrated-blake"
    },
    {
      "cell_type": "code",
      "metadata": {
        "id": "obvious-merchandise"
      },
      "source": [
        "# splitting the data by giving test size as 30%\n",
        "X_train, X_test, y_train, y_test = train_test_split(X, y, test_size = 0.3, random_state = 0)"
      ],
      "id": "obvious-merchandise",
      "execution_count": 28,
      "outputs": []
    },
    {
      "cell_type": "code",
      "metadata": {
        "colab": {
          "base_uri": "https://localhost:8080/"
        },
        "id": "integral-nature",
        "outputId": "f7b6e7ca-618a-4fe2-900f-dc6d818ecd14"
      },
      "source": [
        "print(\"X_train :\", X_train.shape, \"y_train :\", y_train.shape)\n",
        "print(\"X_test  :\", X_test.shape, \" y_test  :\", y_test.shape)"
      ],
      "id": "integral-nature",
      "execution_count": 29,
      "outputs": [
        {
          "output_type": "stream",
          "text": [
            "X_train : (1553, 2) y_train : (1553,)\n",
            "X_test  : (666, 2)  y_test  : (666,)\n"
          ],
          "name": "stdout"
        }
      ]
    },
    {
      "cell_type": "markdown",
      "metadata": {
        "id": "fiscal-dealing"
      },
      "source": [
        "# Applying classification models\n",
        "\n",
        "**As all the values in our data are numerical, there is no need to normalize them. We'll directly use classification techniques**\n",
        "\n",
        "## 1. Logistic Regression"
      ],
      "id": "fiscal-dealing"
    },
    {
      "cell_type": "code",
      "metadata": {
        "colab": {
          "base_uri": "https://localhost:8080/"
        },
        "id": "royal-jesus",
        "outputId": "97deb74a-f550-4466-93a5-3683502739c3"
      },
      "source": [
        "logreg_model = LogisticRegression()\n",
        "logreg_model.fit(X_train,y_train)"
      ],
      "id": "royal-jesus",
      "execution_count": 30,
      "outputs": [
        {
          "output_type": "execute_result",
          "data": {
            "text/plain": [
              "LogisticRegression(C=1.0, class_weight=None, dual=False, fit_intercept=True,\n",
              "                   intercept_scaling=1, l1_ratio=None, max_iter=100,\n",
              "                   multi_class='auto', n_jobs=None, penalty='l2',\n",
              "                   random_state=None, solver='lbfgs', tol=0.0001, verbose=0,\n",
              "                   warm_start=False)"
            ]
          },
          "metadata": {
            "tags": []
          },
          "execution_count": 30
        }
      ]
    },
    {
      "cell_type": "code",
      "metadata": {
        "id": "domestic-processing"
      },
      "source": [
        "y_pred_log = logreg_model.predict(X_test)"
      ],
      "id": "domestic-processing",
      "execution_count": 31,
      "outputs": []
    },
    {
      "cell_type": "code",
      "metadata": {
        "colab": {
          "base_uri": "https://localhost:8080/"
        },
        "id": "pending-lucas",
        "outputId": "2df52b11-5d6a-4020-cf03-444d5e0b66de"
      },
      "source": [
        "acc_log = accuracy_score(y_test, y_pred_log)\n",
        "acc_log"
      ],
      "id": "pending-lucas",
      "execution_count": 32,
      "outputs": [
        {
          "output_type": "execute_result",
          "data": {
            "text/plain": [
              "0.7657657657657657"
            ]
          },
          "metadata": {
            "tags": []
          },
          "execution_count": 32
        }
      ]
    },
    {
      "cell_type": "code",
      "metadata": {
        "colab": {
          "base_uri": "https://localhost:8080/"
        },
        "id": "fallen-celtic",
        "outputId": "f7a1222d-5746-466e-e4fd-1bde02a4912d"
      },
      "source": [
        "# Let's take a look at confusion matix\n",
        "conf_matrix = confusion_matrix(y_test, y_pred_log)\n",
        "conf_matrix"
      ],
      "id": "fallen-celtic",
      "execution_count": 33,
      "outputs": [
        {
          "output_type": "execute_result",
          "data": {
            "text/plain": [
              "array([[377,   1],\n",
              "       [155, 133]])"
            ]
          },
          "metadata": {
            "tags": []
          },
          "execution_count": 33
        }
      ]
    },
    {
      "cell_type": "code",
      "metadata": {
        "colab": {
          "base_uri": "https://localhost:8080/"
        },
        "id": "private-watson",
        "outputId": "918ef935-b220-4c05-a46f-a2a8877fe76b"
      },
      "source": [
        "print(classification_report(y_test, y_pred_log))"
      ],
      "id": "private-watson",
      "execution_count": 34,
      "outputs": [
        {
          "output_type": "stream",
          "text": [
            "              precision    recall  f1-score   support\n",
            "\n",
            "           0       0.71      1.00      0.83       378\n",
            "           1       0.99      0.46      0.63       288\n",
            "\n",
            "    accuracy                           0.77       666\n",
            "   macro avg       0.85      0.73      0.73       666\n",
            "weighted avg       0.83      0.77      0.74       666\n",
            "\n"
          ],
          "name": "stdout"
        }
      ]
    },
    {
      "cell_type": "markdown",
      "metadata": {
        "id": "saved-genealogy"
      },
      "source": [
        "### Hyperparameter Tuning with Logistic regression"
      ],
      "id": "saved-genealogy"
    },
    {
      "cell_type": "code",
      "metadata": {
        "id": "rotary-onion"
      },
      "source": [
        "parameters = { \n",
        "               \"solver\" : ['newton-cg', 'lbfgs', 'liblinear'],\n",
        "               \"penalty\" : ['l2'],\n",
        "               \"C\" : [100, 10, 1.0, 0.1, 0.01]\n",
        "             }\n",
        "\n",
        "cross_val = RepeatedStratifiedKFold(n_splits=10, n_repeats=3, random_state=1)\n",
        "\n",
        "grid_search = GridSearchCV(estimator=logreg_model, param_grid = parameters, cv=cross_val, scoring='accuracy')"
      ],
      "id": "rotary-onion",
      "execution_count": 35,
      "outputs": []
    },
    {
      "cell_type": "code",
      "metadata": {
        "colab": {
          "base_uri": "https://localhost:8080/"
        },
        "id": "everyday-technology",
        "outputId": "2503b668-1cb5-47fe-dd0c-cf4ccd6a226c"
      },
      "source": [
        "result = grid_search.fit(X_train, y_train)"
      ],
      "id": "everyday-technology",
      "execution_count": 36,
      "outputs": [
        {
          "output_type": "stream",
          "text": [
            "/usr/local/lib/python3.7/dist-packages/scipy/optimize/linesearch.py:314: LineSearchWarning: The line search algorithm did not converge\n",
            "  warn('The line search algorithm did not converge', LineSearchWarning)\n",
            "/usr/local/lib/python3.7/dist-packages/sklearn/utils/optimize.py:204: UserWarning: Line Search failed\n",
            "  warnings.warn('Line Search failed')\n",
            "/usr/local/lib/python3.7/dist-packages/scipy/optimize/linesearch.py:314: LineSearchWarning: The line search algorithm did not converge\n",
            "  warn('The line search algorithm did not converge', LineSearchWarning)\n",
            "/usr/local/lib/python3.7/dist-packages/sklearn/utils/optimize.py:204: UserWarning: Line Search failed\n",
            "  warnings.warn('Line Search failed')\n",
            "/usr/local/lib/python3.7/dist-packages/scipy/optimize/linesearch.py:314: LineSearchWarning: The line search algorithm did not converge\n",
            "  warn('The line search algorithm did not converge', LineSearchWarning)\n",
            "/usr/local/lib/python3.7/dist-packages/sklearn/utils/optimize.py:204: UserWarning: Line Search failed\n",
            "  warnings.warn('Line Search failed')\n",
            "/usr/local/lib/python3.7/dist-packages/scipy/optimize/linesearch.py:426: LineSearchWarning: Rounding errors prevent the line search from converging\n",
            "  warn(msg, LineSearchWarning)\n",
            "/usr/local/lib/python3.7/dist-packages/scipy/optimize/linesearch.py:314: LineSearchWarning: The line search algorithm did not converge\n",
            "  warn('The line search algorithm did not converge', LineSearchWarning)\n",
            "/usr/local/lib/python3.7/dist-packages/sklearn/utils/optimize.py:204: UserWarning: Line Search failed\n",
            "  warnings.warn('Line Search failed')\n",
            "/usr/local/lib/python3.7/dist-packages/scipy/optimize/linesearch.py:314: LineSearchWarning: The line search algorithm did not converge\n",
            "  warn('The line search algorithm did not converge', LineSearchWarning)\n",
            "/usr/local/lib/python3.7/dist-packages/sklearn/utils/optimize.py:204: UserWarning: Line Search failed\n",
            "  warnings.warn('Line Search failed')\n",
            "/usr/local/lib/python3.7/dist-packages/scipy/optimize/linesearch.py:314: LineSearchWarning: The line search algorithm did not converge\n",
            "  warn('The line search algorithm did not converge', LineSearchWarning)\n",
            "/usr/local/lib/python3.7/dist-packages/sklearn/utils/optimize.py:204: UserWarning: Line Search failed\n",
            "  warnings.warn('Line Search failed')\n"
          ],
          "name": "stderr"
        }
      ]
    },
    {
      "cell_type": "code",
      "metadata": {
        "colab": {
          "base_uri": "https://localhost:8080/"
        },
        "id": "distinct-chemistry",
        "outputId": "54649823-61b1-4582-e254-47c8cc601f46"
      },
      "source": [
        "print(\"Best: %f using %s\" % (result.best_score_, result.best_params_))"
      ],
      "id": "distinct-chemistry",
      "execution_count": 37,
      "outputs": [
        {
          "output_type": "stream",
          "text": [
            "Best: 0.745012 using {'C': 0.01, 'penalty': 'l2', 'solver': 'liblinear'}\n"
          ],
          "name": "stdout"
        }
      ]
    },
    {
      "cell_type": "markdown",
      "metadata": {
        "id": "recreational-orchestra"
      },
      "source": [
        "## 2. SVM with Linear Kernel"
      ],
      "id": "recreational-orchestra"
    },
    {
      "cell_type": "code",
      "metadata": {
        "colab": {
          "base_uri": "https://localhost:8080/"
        },
        "id": "reduced-volunteer",
        "outputId": "bcccefc6-c83b-433a-e0e4-7b8b3c9f13db"
      },
      "source": [
        "linear_svc = SVC(kernel='linear')\n",
        "linear_svc.fit(X_train, y_train)"
      ],
      "id": "reduced-volunteer",
      "execution_count": 40,
      "outputs": [
        {
          "output_type": "execute_result",
          "data": {
            "text/plain": [
              "SVC(C=1.0, break_ties=False, cache_size=200, class_weight=None, coef0=0.0,\n",
              "    decision_function_shape='ovr', degree=3, gamma='scale', kernel='linear',\n",
              "    max_iter=-1, probability=False, random_state=None, shrinking=True,\n",
              "    tol=0.001, verbose=False)"
            ]
          },
          "metadata": {
            "tags": []
          },
          "execution_count": 40
        }
      ]
    },
    {
      "cell_type": "code",
      "metadata": {
        "id": "rising-appraisal"
      },
      "source": [
        "y_pred = linear_svc.predict(X_test)"
      ],
      "id": "rising-appraisal",
      "execution_count": 41,
      "outputs": []
    },
    {
      "cell_type": "code",
      "metadata": {
        "colab": {
          "base_uri": "https://localhost:8080/"
        },
        "id": "informal-mortality",
        "outputId": "edd4737f-24d4-4ebf-e903-563426f50068"
      },
      "source": [
        "acc_svc_linear = accuracy_score(y_test, y_pred)\n",
        "acc_svc_linear"
      ],
      "id": "informal-mortality",
      "execution_count": 42,
      "outputs": [
        {
          "output_type": "execute_result",
          "data": {
            "text/plain": [
              "0.7522522522522522"
            ]
          },
          "metadata": {
            "tags": []
          },
          "execution_count": 42
        }
      ]
    },
    {
      "cell_type": "code",
      "metadata": {
        "colab": {
          "base_uri": "https://localhost:8080/"
        },
        "id": "brazilian-cooperation",
        "outputId": "e78f9852-1027-4374-e773-457a73f2943d"
      },
      "source": [
        "# Let's take a look at confusion matix\n",
        "conf_matrix = confusion_matrix(y_test, y_pred)\n",
        "conf_matrix"
      ],
      "id": "brazilian-cooperation",
      "execution_count": 43,
      "outputs": [
        {
          "output_type": "execute_result",
          "data": {
            "text/plain": [
              "array([[377,   1],\n",
              "       [164, 124]])"
            ]
          },
          "metadata": {
            "tags": []
          },
          "execution_count": 43
        }
      ]
    },
    {
      "cell_type": "markdown",
      "metadata": {
        "id": "burning-college"
      },
      "source": [
        "### Hyperparameter tuning for Linear SVC"
      ],
      "id": "burning-college"
    },
    {
      "cell_type": "code",
      "metadata": {
        "id": "zZsIxjhQcl99"
      },
      "source": [
        "params = {'C': [0.1,1, 10, 100], \n",
        "              'gamma': [1,0.1,0.01,0.001]\n",
        "             }\n",
        "\n",
        "grid = GridSearchCV(estimator = linear_svc, param_grid = params )\n",
        "\n",
        "grid.fit(X_train,y_train)"
      ],
      "id": "zZsIxjhQcl99",
      "execution_count": null,
      "outputs": []
    },
    {
      "cell_type": "code",
      "metadata": {
        "id": "southern-ultimate"
      },
      "source": [
        "print(grid.best_estimator_)"
      ],
      "id": "southern-ultimate",
      "execution_count": null,
      "outputs": []
    },
    {
      "cell_type": "markdown",
      "metadata": {
        "id": "possible-pocket"
      },
      "source": [
        "## 3. SVM with RBF Kernel"
      ],
      "id": "possible-pocket"
    },
    {
      "cell_type": "code",
      "metadata": {
        "id": "coastal-winning"
      },
      "source": [
        "rbf_svc = SVC(kernel='rbf')\n",
        "rbf_svc.fit(X_train, y_train)"
      ],
      "id": "coastal-winning",
      "execution_count": null,
      "outputs": []
    },
    {
      "cell_type": "code",
      "metadata": {
        "id": "moral-airplane"
      },
      "source": [
        "y_pred = rbf_svc.predict(X_test)"
      ],
      "id": "moral-airplane",
      "execution_count": null,
      "outputs": []
    },
    {
      "cell_type": "code",
      "metadata": {
        "id": "digital-bahrain"
      },
      "source": [
        "acc_svc_rbf = accuracy_score(y_test, y_pred)\n",
        "acc_svc_rbf"
      ],
      "id": "digital-bahrain",
      "execution_count": null,
      "outputs": []
    },
    {
      "cell_type": "code",
      "metadata": {
        "id": "specialized-senegal"
      },
      "source": [
        "# Let's take a look at confusion matix\n",
        "conf_matrix = confusion_matrix(y_test, y_pred)\n",
        "conf_matrix"
      ],
      "id": "specialized-senegal",
      "execution_count": null,
      "outputs": []
    },
    {
      "cell_type": "markdown",
      "metadata": {
        "id": "mathematical-greene"
      },
      "source": [
        "### Hyperparameter tuning with rbf kernel"
      ],
      "id": "mathematical-greene"
    },
    {
      "cell_type": "code",
      "metadata": {
        "id": "silver-relay"
      },
      "source": [
        "params = {'C': [0.1,1, 10, 100], \n",
        "              'gamma': [1,0.1,0.01,0.001]\n",
        "             }\n",
        "\n",
        "grid = GridSearchCV(estimator = rbf_svc, param_grid = params )\n",
        "\n",
        "grid.fit(X_train,y_train)"
      ],
      "id": "silver-relay",
      "execution_count": null,
      "outputs": []
    },
    {
      "cell_type": "code",
      "metadata": {
        "id": "historic-thesaurus"
      },
      "source": [
        "print(grid.best_estimator_)"
      ],
      "id": "historic-thesaurus",
      "execution_count": null,
      "outputs": []
    },
    {
      "cell_type": "markdown",
      "metadata": {
        "id": "working-silicon"
      },
      "source": [
        "## 4. Decision Tree Classification"
      ],
      "id": "working-silicon"
    },
    {
      "cell_type": "code",
      "metadata": {
        "colab": {
          "base_uri": "https://localhost:8080/"
        },
        "id": "weighted-working",
        "outputId": "c1ff063d-f307-458e-b5ab-870cd0a50230"
      },
      "source": [
        "# fitting our Decision tree model on train set\n",
        "DT_model = DecisionTreeClassifier()\n",
        "DT_model.fit(X_train, y_train)"
      ],
      "id": "weighted-working",
      "execution_count": 38,
      "outputs": [
        {
          "output_type": "execute_result",
          "data": {
            "text/plain": [
              "DecisionTreeClassifier(ccp_alpha=0.0, class_weight=None, criterion='gini',\n",
              "                       max_depth=None, max_features=None, max_leaf_nodes=None,\n",
              "                       min_impurity_decrease=0.0, min_impurity_split=None,\n",
              "                       min_samples_leaf=1, min_samples_split=2,\n",
              "                       min_weight_fraction_leaf=0.0, presort='deprecated',\n",
              "                       random_state=None, splitter='best')"
            ]
          },
          "metadata": {
            "tags": []
          },
          "execution_count": 38
        }
      ]
    },
    {
      "cell_type": "code",
      "metadata": {
        "id": "variable-construction"
      },
      "source": [
        "# making predictions on test set\n",
        "y_pred = DT_model.predict(X_test)"
      ],
      "id": "variable-construction",
      "execution_count": 40,
      "outputs": []
    },
    {
      "cell_type": "markdown",
      "metadata": {
        "id": "freelance-africa"
      },
      "source": [
        "### Hyperparameter tuning with Decision Tree classifier"
      ],
      "id": "freelance-africa"
    },
    {
      "cell_type": "code",
      "metadata": {
        "colab": {
          "base_uri": "https://localhost:8080/"
        },
        "id": "raised-wilderness",
        "outputId": "1dda77b8-7be0-4385-9107-de267295184a"
      },
      "source": [
        "param_grid ={\n",
        "    'criterion' : ['gini','entropy'],\n",
        "    'max_depth' : [2,3,4,5,6,7],\n",
        "}\n",
        "\n",
        "gridsearch = GridSearchCV(estimator=DT_model,param_grid=param_grid,cv=10)\n",
        "\n",
        "\n",
        "gridsearch.fit(X_train,y_train)\n"
      ],
      "id": "raised-wilderness",
      "execution_count": 43,
      "outputs": [
        {
          "output_type": "execute_result",
          "data": {
            "text/plain": [
              "GridSearchCV(cv=10, error_score=nan,\n",
              "             estimator=DecisionTreeClassifier(ccp_alpha=0.0, class_weight=None,\n",
              "                                              criterion='gini', max_depth=None,\n",
              "                                              max_features=None,\n",
              "                                              max_leaf_nodes=None,\n",
              "                                              min_impurity_decrease=0.0,\n",
              "                                              min_impurity_split=None,\n",
              "                                              min_samples_leaf=1,\n",
              "                                              min_samples_split=2,\n",
              "                                              min_weight_fraction_leaf=0.0,\n",
              "                                              presort='deprecated',\n",
              "                                              random_state=None,\n",
              "                                              splitter='best'),\n",
              "             iid='deprecated', n_jobs=None,\n",
              "             param_grid={'criterion': ['gini', 'entropy'],\n",
              "                         'max_depth': [2, 3, 4, 5, 6, 7]},\n",
              "             pre_dispatch='2*n_jobs', refit=True, return_train_score=False,\n",
              "             scoring=None, verbose=0)"
            ]
          },
          "metadata": {
            "tags": []
          },
          "execution_count": 43
        }
      ]
    },
    {
      "cell_type": "code",
      "metadata": {
        "colab": {
          "base_uri": "https://localhost:8080/"
        },
        "id": "reflected-calgary",
        "outputId": "7f82a574-1e87-40d7-81e2-c2f2a351a6be"
      },
      "source": [
        "gridsearch.best_params_"
      ],
      "id": "reflected-calgary",
      "execution_count": 44,
      "outputs": [
        {
          "output_type": "execute_result",
          "data": {
            "text/plain": [
              "{'criterion': 'entropy', 'max_depth': 7}"
            ]
          },
          "metadata": {
            "tags": []
          },
          "execution_count": 44
        }
      ]
    },
    {
      "cell_type": "code",
      "metadata": {
        "id": "hourly-notification"
      },
      "source": [
        "best_model = gridsearch.best_estimator_"
      ],
      "id": "hourly-notification",
      "execution_count": 45,
      "outputs": []
    },
    {
      "cell_type": "code",
      "metadata": {
        "colab": {
          "base_uri": "https://localhost:8080/"
        },
        "id": "third-intermediate",
        "outputId": "98e2f31d-f306-48f7-f415-95a61d8bea4c"
      },
      "source": [
        "best_model.fit(X_train,y_train)"
      ],
      "id": "third-intermediate",
      "execution_count": 46,
      "outputs": [
        {
          "output_type": "execute_result",
          "data": {
            "text/plain": [
              "DecisionTreeClassifier(ccp_alpha=0.0, class_weight=None, criterion='entropy',\n",
              "                       max_depth=7, max_features=None, max_leaf_nodes=None,\n",
              "                       min_impurity_decrease=0.0, min_impurity_split=None,\n",
              "                       min_samples_leaf=1, min_samples_split=2,\n",
              "                       min_weight_fraction_leaf=0.0, presort='deprecated',\n",
              "                       random_state=None, splitter='best')"
            ]
          },
          "metadata": {
            "tags": []
          },
          "execution_count": 46
        }
      ]
    },
    {
      "cell_type": "code",
      "metadata": {
        "colab": {
          "base_uri": "https://localhost:8080/"
        },
        "id": "curious-vacation",
        "outputId": "303b846b-7b97-4a32-d10e-c3350ddc0a6c"
      },
      "source": [
        "gridsearch.best_score_"
      ],
      "id": "curious-vacation",
      "execution_count": 47,
      "outputs": [
        {
          "output_type": "execute_result",
          "data": {
            "text/plain": [
              "0.9542431761786598"
            ]
          },
          "metadata": {
            "tags": []
          },
          "execution_count": 47
        }
      ]
    },
    {
      "cell_type": "markdown",
      "metadata": {
        "id": "gjyxDWxeXwfI"
      },
      "source": [
        "## 5. KNN"
      ],
      "id": "gjyxDWxeXwfI"
    },
    {
      "cell_type": "code",
      "metadata": {
        "id": "GIOXFf_qYk4T"
      },
      "source": [
        "knn_model = KNeighborsClassifier(n_neighbors = 11)\n",
        "knn_model.fit(X_train,y_train)\n",
        "y_predict = knn_model.predict(X_test)"
      ],
      "id": "GIOXFf_qYk4T",
      "execution_count": 48,
      "outputs": []
    },
    {
      "cell_type": "code",
      "metadata": {
        "colab": {
          "base_uri": "https://localhost:8080/"
        },
        "id": "JLPZhhN3YzaX",
        "outputId": "478d1703-4209-428f-d66f-07142f27b203"
      },
      "source": [
        "acc_knn = accuracy_score(y_test, y_pred)\n",
        "acc_knn"
      ],
      "id": "JLPZhhN3YzaX",
      "execution_count": 49,
      "outputs": [
        {
          "output_type": "execute_result",
          "data": {
            "text/plain": [
              "0.9354354354354354"
            ]
          },
          "metadata": {
            "tags": []
          },
          "execution_count": 49
        }
      ]
    },
    {
      "cell_type": "code",
      "metadata": {
        "colab": {
          "base_uri": "https://localhost:8080/"
        },
        "id": "2PBwqJmBY5Bn",
        "outputId": "f9823246-d969-4e2a-8a9c-c518b8682a62"
      },
      "source": [
        "# Let's take a look at confusion matix\n",
        "conf_matrix = confusion_matrix(y_test, y_pred)\n",
        "conf_matrix"
      ],
      "id": "2PBwqJmBY5Bn",
      "execution_count": 50,
      "outputs": [
        {
          "output_type": "execute_result",
          "data": {
            "text/plain": [
              "array([[350,  28],\n",
              "       [ 15, 273]])"
            ]
          },
          "metadata": {
            "tags": []
          },
          "execution_count": 50
        }
      ]
    },
    {
      "cell_type": "markdown",
      "metadata": {
        "id": "TN-MJx4vY6tR"
      },
      "source": [
        "### Hyperparameter Tuning"
      ],
      "id": "TN-MJx4vY6tR"
    },
    {
      "cell_type": "code",
      "metadata": {
        "id": "3YbgCM1KXx5K"
      },
      "source": [
        "ks =21\n",
        "mean_acc = np.zeros((ks-1))\n",
        "\n",
        "for n in range(1,ks):\n",
        "    neighbors = KNeighborsClassifier(n_neighbors=n).fit(X_train,y_train)\n",
        "    y_hat = neighbors.predict(X_test)\n",
        "    mean_acc[n-1]=accuracy_score(y_test,y_hat)"
      ],
      "id": "3YbgCM1KXx5K",
      "execution_count": 51,
      "outputs": []
    },
    {
      "cell_type": "code",
      "metadata": {
        "colab": {
          "base_uri": "https://localhost:8080/"
        },
        "id": "PZXT0Zf_Y9LG",
        "outputId": "51e72bf7-78ea-404c-ad01-4d7576197b2a"
      },
      "source": [
        "mean_acc"
      ],
      "id": "PZXT0Zf_Y9LG",
      "execution_count": 52,
      "outputs": [
        {
          "output_type": "execute_result",
          "data": {
            "text/plain": [
              "array([0.93093093, 0.95045045, 0.94594595, 0.94894895, 0.94594595,\n",
              "       0.94894895, 0.94744745, 0.95195195, 0.94894895, 0.95045045,\n",
              "       0.95045045, 0.94894895, 0.94894895, 0.95045045, 0.94894895,\n",
              "       0.94894895, 0.95195195, 0.94894895, 0.94594595, 0.94444444])"
            ]
          },
          "metadata": {
            "tags": []
          },
          "execution_count": 52
        }
      ]
    },
    {
      "cell_type": "code",
      "metadata": {
        "colab": {
          "base_uri": "https://localhost:8080/"
        },
        "id": "c-XXolICZCZ4",
        "outputId": "75b67b59-ed6f-49e6-e4a4-834fbca87253"
      },
      "source": [
        "print(\"The best accuracy : \",mean_acc.max(),\"k=\",mean_acc.argmax()+1)"
      ],
      "id": "c-XXolICZCZ4",
      "execution_count": 53,
      "outputs": [
        {
          "output_type": "stream",
          "text": [
            "The best accuracy :  0.9519519519519519 k= 8\n"
          ],
          "name": "stdout"
        }
      ]
    },
    {
      "cell_type": "code",
      "metadata": {
        "colab": {
          "base_uri": "https://localhost:8080/",
          "height": 388
        },
        "id": "l2FibWQLZD8R",
        "outputId": "2c074781-1b04-4f9b-9dd5-20dc9afb3887"
      },
      "source": [
        "plt.figure(figsize=(12,6))\n",
        "plt.plot(range(1,ks),mean_acc,'r')\n",
        "plt.ylabel('Accuracy')\n",
        "plt.xlabel('K')\n",
        "plt.show()"
      ],
      "id": "l2FibWQLZD8R",
      "execution_count": 54,
      "outputs": [
        {
          "output_type": "display_data",
          "data": {
            "image/png": "[encoded data removed]",
            "text/plain": [
              "<Figure size 864x432 with 1 Axes>"
            ]
          },
          "metadata": {
            "tags": [],
            "needs_background": "light"
          }
        }
      ]
    }
  ]
}